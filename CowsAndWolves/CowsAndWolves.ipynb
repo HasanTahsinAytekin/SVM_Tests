{
 "cells": [
  {
   "cell_type": "code",
   "execution_count": 1,
   "metadata": {},
   "outputs": [
    {
     "name": "stderr",
     "output_type": "stream",
     "text": [
      "<ipython-input-1-7224ab819c68>:25: MatplotlibDeprecationWarning: shading='flat' when X and Y have the same dimensions as C is deprecated since 3.3.  Either specify the corners of the quadrilaterals with X and Y, or pass shading='auto', 'nearest' or 'gouraud', or set rcParams['pcolor.shading'].  This will become an error two minor releases later.\n",
      "  pl.pcolormesh(xx, yy, Z, cmap=pl.cm.Paired)\n",
      "<ipython-input-1-7224ab819c68>:25: MatplotlibDeprecationWarning: shading='flat' when X and Y have the same dimensions as C is deprecated since 3.3.  Either specify the corners of the quadrilaterals with X and Y, or pass shading='auto', 'nearest' or 'gouraud', or set rcParams['pcolor.shading'].  This will become an error two minor releases later.\n",
      "  pl.pcolormesh(xx, yy, Z, cmap=pl.cm.Paired)\n",
      "<ipython-input-1-7224ab819c68>:25: MatplotlibDeprecationWarning: shading='flat' when X and Y have the same dimensions as C is deprecated since 3.3.  Either specify the corners of the quadrilaterals with X and Y, or pass shading='auto', 'nearest' or 'gouraud', or set rcParams['pcolor.shading'].  This will become an error two minor releases later.\n",
      "  pl.pcolormesh(xx, yy, Z, cmap=pl.cm.Paired)\n"
     ]
    },
    {
     "data": {
      "image/png": "[encoded data removed]",
      "text/plain": [
       "<Figure size 432x288 with 3 Axes>"
      ]
     },
     "metadata": {
      "needs_background": "light"
     },
     "output_type": "display_data"
    }
   ],
   "source": [
    "import numpy as np\n",
    "import pylab as pl\n",
    "from sklearn import svm\n",
    "from sklearn import linear_model\n",
    "from sklearn import tree\n",
    "import pandas as pd\n",
    "\n",
    "def plot_results_with_hyperplane(clf, clf_name, df, plt_nmbr):\n",
    "    x_min, x_max = df.x.min() - .5, df.x.max() + .5\n",
    "    y_min, y_max = df.y.min() - .5, df.y.max() + .5\n",
    "\n",
    "    # step between points.\n",
    "    step = .02\n",
    "    #\n",
    "    # Sınırı çizmek için olası her noktanın bir matrisini oluşturacağız. Sonra ilgili\n",
    "    #   sınıflandırıcıyı kullanarak her noktayı bir kurt yada ineğe bağlayacağız\n",
    "    xx, yy = np.meshgrid(np.arange(x_min, x_max, step), np.arange(y_min, y_max, step))\n",
    "    Z = clf.predict(np.c_[xx.ravel(), yy.ravel()])\n",
    "    # Tahminleri tekrar aynı matise yükleyelim\n",
    "    Z = Z.reshape(xx.shape)\n",
    "\n",
    "    # Bir subplot oluşturalım (her bir grafik üzerinde birden fazla yer olacak)\n",
    "    pl.subplot(2, 2, plt_nmbr)\n",
    "    # sınırları çiz\n",
    "    pl.pcolormesh(xx, yy, Z, cmap=pl.cm.Paired)\n",
    "\n",
    "    # Kurt ve inekleri çizelim\n",
    "    for animal in df.animal.unique():\n",
    "        pl.scatter(df[df.animal==animal].x,\n",
    "                   df[df.animal==animal].y,\n",
    "                   marker=animal,\n",
    "                   label=\"cows\" if animal==\"x\" else \"wolves\",\n",
    "                   color='black')\n",
    "    pl.title(clf_name)\n",
    "    pl.legend(loc=\"best\")\n",
    "\n",
    "\n",
    "data = open(\"Data\\\\cows_and_wolves.txt\").read()\n",
    "data = [row.split('\\t') for row in data.strip().split('\\n')]\n",
    "\n",
    "animals = []\n",
    "for y, row in enumerate(data):\n",
    "    for x, item in enumerate(row):\n",
    "        # x'ler inek', o'lar kurt\n",
    "        if item in ['o', 'x']:\n",
    "            animals.append([x, y, item])\n",
    "\n",
    "df = pd.DataFrame(animals, columns=[\"x\", \"y\", \"animal\"])\n",
    "df['animal_type'] = df.animal.apply(lambda x: 0 if x==\"x\" else 1)\n",
    "\n",
    "# x ve y koordinatlarını kullanarak eğitelim\n",
    "train_cols = [\"x\", \"y\"]\n",
    "\n",
    "clfs = {\n",
    "    \"SVM\": svm.SVC(),\n",
    "    \"Logistic\" : linear_model.LogisticRegression(),\n",
    "    \"Decision Tree\": tree.DecisionTreeClassifier(),\n",
    "}\n",
    "\n",
    "plt_nmbr = 1\n",
    "for clf_name, clf in clfs.items():\n",
    "    clf.fit(df[train_cols], df.animal_type)\n",
    "    plot_results_with_hyperplane(clf, clf_name, df, plt_nmbr)\n",
    "    plt_nmbr += 1\n",
    "pl.show()"
   ]
  },
  {
   "cell_type": "code",
   "execution_count": null,
   "metadata": {},
   "outputs": [],
   "source": []
  }
 ],
 "metadata": {
  "kernelspec": {
   "display_name": "Python 3",
   "language": "python",
   "name": "python3"
  },
  "language_info": {
   "codemirror_mode": {
    "name": "ipython",
    "version": 3
   },
   "file_extension": ".py",
   "mimetype": "text/x-python",
   "name": "python",
   "nbconvert_exporter": "python",
   "pygments_lexer": "ipython3",
   "version": "3.8.5"
  }
 },
 "nbformat": 4,
 "nbformat_minor": 4
}
